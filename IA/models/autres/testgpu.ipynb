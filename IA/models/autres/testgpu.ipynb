{
 "cells": [
  {
   "cell_type": "code",
   "execution_count": 3,
   "metadata": {},
   "outputs": [
    {
     "name": "stdout",
     "output_type": "stream",
     "text": [
      "TensorFlow version: 2.10.1\n",
      "NumPy version: 1.23.5\n",
      "SciPy version: 1.10.1\n",
      "GPU Disponible: [PhysicalDevice(name='/physical_device:GPU:0', device_type='GPU')]\n"
     ]
    }
   ],
   "source": [
    "import tensorflow as tf\n",
    "import numpy as np\n",
    "import scipy\n",
    "\n",
    "print(\"TensorFlow version:\", tf.__version__)\n",
    "print(\"NumPy version:\", np.__version__)\n",
    "print(\"SciPy version:\", scipy.__version__)\n",
    "print(\"GPU Disponible:\", tf.config.list_physical_devices('GPU'))\n"
   ]
  },
  {
   "cell_type": "code",
   "execution_count": 5,
   "metadata": {},
   "outputs": [
    {
     "name": "stdout",
     "output_type": "stream",
     "text": [
      "TensorFlow utilise-t-il le GPU ? True\n",
      "Nom du GPU actif : [PhysicalDevice(name='/physical_device:GPU:0', device_type='GPU')]\n",
      "Test d'opération TensorFlow sur le GPU effectué ! 🚀\n"
     ]
    }
   ],
   "source": [
    "import tensorflow as tf\n",
    "\n",
    "# Vérifier si TensorFlow utilise le GPU\n",
    "print(\"TensorFlow utilise-t-il le GPU ?\", tf.test.is_built_with_cuda())\n",
    "print(\"Nom du GPU actif :\", tf.config.experimental.list_physical_devices('GPU'))\n",
    "\n",
    "# Lancer un calcul sur le GPU\n",
    "with tf.device('/GPU:0'):\n",
    "    a = tf.random.normal((1000, 1000))\n",
    "    b = tf.random.normal((1000, 1000))\n",
    "    c = tf.matmul(a, b)\n",
    "\n",
    "print(\"Test d'opération TensorFlow sur le GPU effectué ! 🚀\")\n"
   ]
  }
 ],
 "metadata": {
  "kernelspec": {
   "display_name": ".conda",
   "language": "python",
   "name": "python3"
  },
  "language_info": {
   "codemirror_mode": {
    "name": "ipython",
    "version": 3
   },
   "file_extension": ".py",
   "mimetype": "text/x-python",
   "name": "python",
   "nbconvert_exporter": "python",
   "pygments_lexer": "ipython3",
   "version": "3.10.16"
  }
 },
 "nbformat": 4,
 "nbformat_minor": 2
}
