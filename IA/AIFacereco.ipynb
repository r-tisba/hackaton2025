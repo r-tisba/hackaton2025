{
 "cells": [
  {
   "cell_type": "markdown",
   "metadata": {},
   "source": [
    "Traitement et ebtrainement du modèl "
   ]
  },
  {
   "cell_type": "code",
   "execution_count": null,
   "metadata": {},
   "outputs": [
    {
     "name": "stderr",
     "output_type": "stream",
     "text": [
      "c:\\Users\\smour\\Documents\\HACKATHON\\.venv\\Lib\\site-packages\\albumentations\\core\\validation.py:87: UserWarning: ShiftScaleRotate is a special case of Affine transform. Please use Affine transform instead.\n",
      "  original_init(self, **validated_kwargs)\n"
     ]
    },
    {
     "name": "stdout",
     "output_type": "stream",
     "text": [
      "0: 25000 images déjà présentes.\n",
      "Classe 0 déjà complète.\n",
      "1: 25000 images déjà présentes.\n",
      "Classe 1 déjà complète.\n",
      "2: 25000 images déjà présentes.\n",
      "Classe 2 déjà complète.\n",
      "3: 0 images déjà présentes.\n"
     ]
    },
    {
     "name": "stderr",
     "output_type": "stream",
     "text": [
      "Chargement 3: 100%|██████████| 14090/14090 [00:47<00:00, 294.37it/s]\n"
     ]
    },
    {
     "name": "stdout",
     "output_type": "stream",
     "text": [
      "Classe 3 sous-représentée: génération d'images supplémentaires.\n",
      "✅ 3: ajout de 25000 images.\n",
      "4: 0 images déjà présentes.\n"
     ]
    },
    {
     "name": "stderr",
     "output_type": "stream",
     "text": [
      "Chargement 4: 100%|██████████| 6378/6378 [00:15<00:00, 412.63it/s]\n"
     ]
    },
    {
     "name": "stdout",
     "output_type": "stream",
     "text": [
      "Classe 4 sous-représentée: génération d'images supplémentaires.\n",
      "✅ 4: ajout de 25000 images.\n",
      "5: 0 images déjà présentes.\n"
     ]
    },
    {
     "name": "stderr",
     "output_type": "stream",
     "text": [
      "Chargement 5: 100%|██████████| 3803/3803 [00:14<00:00, 262.54it/s]\n"
     ]
    },
    {
     "name": "stdout",
     "output_type": "stream",
     "text": [
      "Classe 5 sous-représentée: génération d'images supplémentaires.\n",
      "✅ 5: ajout de 25000 images.\n",
      "6: 0 images déjà présentes.\n"
     ]
    },
    {
     "name": "stderr",
     "output_type": "stream",
     "text": [
      "Chargement 6: 100%|██████████| 24882/24882 [06:54<00:00, 60.00it/s]\n"
     ]
    },
    {
     "name": "stdout",
     "output_type": "stream",
     "text": [
      "Classe 6 sous-représentée: génération d'images supplémentaires.\n",
      "✅ 6: ajout de 25000 images.\n",
      "🎯 Dataset nettoyé et équilibré avec succès !\n"
     ]
    }
   ],
   "source": [
    "import os\n",
    "import cv2\n",
    "import numpy as np\n",
    "from tqdm import tqdm\n",
    "import albumentations as A\n",
    "from albumentations.pytorch import ToTensorV2\n",
    "\n",
    "#  Chemins\n",
    "DATASET_PATH = r'C:\\Users\\smour\\Documents\\HACKATHON\\hackaton2025\\archive2\\train'\n",
    "OUTPUT_PATH = r'C:\\Users\\smour\\Documents\\HACKATHON\\hackaton2025\\archive4_preprocessed\\train'\n",
    "\n",
    "IMG_SIZE = 48  # Taille standardisée\n",
    "TARGET_IMAGES_PER_CLASS = 25000  # Objectif par classe\n",
    "IS_GRAYSCALE = False  # True si noir & blanc, False si couleur\n",
    "\n",
    "# ✅ Augmentations\n",
    "augmentations = A.Compose([\n",
    "    A.HorizontalFlip(p=0.5),\n",
    "    A.Rotate(limit=15, p=0.5),\n",
    "    A.RandomBrightnessContrast(p=0.2),\n",
    "    A.ShiftScaleRotate(shift_limit=0.05, scale_limit=0.05, rotate_limit=10, p=0.5),\n",
    "    A.GaussNoise(p=0.2),\n",
    "])\n",
    "\n",
    "#  Vérifier si une image est corrompue\n",
    "def is_valid_image(file_path):\n",
    "    try:\n",
    "        img = cv2.imread(file_path)\n",
    "        if img is None:\n",
    "            return False\n",
    "        return True\n",
    "    except Exception:\n",
    "        return False\n",
    "\n",
    "#  Charger et prétraiter une image\n",
    "def process_image(file_path):\n",
    "    img = cv2.imread(file_path, cv2.IMREAD_GRAYSCALE if IS_GRAYSCALE else cv2.IMREAD_COLOR)\n",
    "    img = cv2.resize(img, (IMG_SIZE, IMG_SIZE))\n",
    "    \n",
    "    if IS_GRAYSCALE:\n",
    "        img = np.expand_dims(img, axis=-1)  # Assurer format (48, 48, 1)\n",
    "    else:\n",
    "        img = cv2.cvtColor(img, cv2.COLOR_BGR2RGB)  # Assurer format RGB\n",
    "    \n",
    "    img = img.astype(np.float32) / 255.0  # Normalisation\n",
    "    return img\n",
    "\n",
    "#  Fonction pour traiter le dataset en reprenant là où il s'est arrêté\n",
    "def clean_and_balance_dataset(source_path, output_path):\n",
    "    os.makedirs(output_path, exist_ok=True)\n",
    "\n",
    "    for class_name in os.listdir(source_path):\n",
    "        class_path = os.path.join(source_path, class_name)\n",
    "        output_class_path = os.path.join(output_path, class_name)\n",
    "        \n",
    "        if not os.path.isdir(class_path):\n",
    "            continue  # Ignore fichiers non dossiers\n",
    "\n",
    "        os.makedirs(output_class_path, exist_ok=True)\n",
    "        \n",
    "        # Vérifier le nombre d'images déjà sauvegardées pour cette classe\n",
    "        existing_files = [f for f in os.listdir(output_class_path) if f.endswith('.png')]\n",
    "        current_count = len(existing_files)\n",
    "        print(f\"{class_name}: {current_count} images déjà présentes.\")\n",
    "        \n",
    "        # Si la classe est déjà complète, passer à la suivante\n",
    "        if current_count >= TARGET_IMAGES_PER_CLASS:\n",
    "            print(f\"Classe {class_name} déjà complète.\")\n",
    "            continue\n",
    "        \n",
    "        images = []\n",
    "        valid_files = [f for f in os.listdir(class_path) if is_valid_image(os.path.join(class_path, f))]\n",
    "        \n",
    "        # Charger les images originales (jusqu'à TARGET_IMAGES_PER_CLASS)\n",
    "        for file in tqdm(valid_files, desc=f\"Chargement {class_name}\"):\n",
    "            file_path = os.path.join(class_path, file)\n",
    "            img = process_image(file_path)\n",
    "            images.append(img)\n",
    "            if len(images) >= TARGET_IMAGES_PER_CLASS:\n",
    "                break\n",
    "        \n",
    "        # Si le nombre d'images originales est insuffisant, générer des images supplémentaires\n",
    "        if len(images) < TARGET_IMAGES_PER_CLASS:\n",
    "            print(f\"Classe {class_name} sous-représentée: génération d'images supplémentaires.\")\n",
    "            while len(images) < TARGET_IMAGES_PER_CLASS:\n",
    "                augmented_images = []\n",
    "                for img in images:\n",
    "                    augmented = augmentations(image=img)[\"image\"]\n",
    "                    augmented_images.append(augmented)\n",
    "                    if len(images) + len(augmented_images) >= TARGET_IMAGES_PER_CLASS:\n",
    "                        break\n",
    "                images = np.concatenate((images, np.array(augmented_images)), axis=0)\n",
    "        \n",
    "        # Sauvegarde des images manquantes\n",
    "        for idx in range(current_count, TARGET_IMAGES_PER_CLASS):\n",
    "            img = images[idx]\n",
    "            img_save = (img * 255).astype(np.uint8)\n",
    "            output_file = os.path.join(output_class_path, f\"{idx}.png\")\n",
    "            cv2.imwrite(output_file, img_save)\n",
    "        \n",
    "        print(f\" {class_name}: ajout de {TARGET_IMAGES_PER_CLASS - current_count} images.\")\n",
    "\n",
    "# 🚀 Traitement du dataset d'entraînement\n",
    "clean_and_balance_dataset(DATASET_PATH, OUTPUT_PATH)\n",
    "print(\"🎯 Dataset nettoyé et équilibré avec succès !\")\n"
   ]
  },
  {
   "cell_type": "code",
   "execution_count": null,
   "metadata": {},
   "outputs": [
    {
     "name": "stdout",
     "output_type": "stream",
     "text": [
      "0: 0 images déjà présentes.\n"
     ]
    },
    {
     "name": "stderr",
     "output_type": "stream",
     "text": [
      "Traitement 0: 100%|██████████| 500/500 [00:01<00:00, 331.32it/s]\n"
     ]
    },
    {
     "name": "stdout",
     "output_type": "stream",
     "text": [
      "✅ 0: sauvegardé 1500 images supplémentaires\n",
      "1: 0 images déjà présentes.\n"
     ]
    },
    {
     "name": "stderr",
     "output_type": "stream",
     "text": [
      "Traitement 1: 100%|██████████| 500/500 [00:01<00:00, 315.76it/s]\n"
     ]
    },
    {
     "name": "stdout",
     "output_type": "stream",
     "text": [
      "✅ 1: sauvegardé 1500 images supplémentaires\n",
      "2: 0 images déjà présentes.\n"
     ]
    },
    {
     "name": "stderr",
     "output_type": "stream",
     "text": [
      "Traitement 2: 100%|██████████| 500/500 [00:01<00:00, 480.15it/s]\n"
     ]
    },
    {
     "name": "stdout",
     "output_type": "stream",
     "text": [
      "✅ 2: sauvegardé 1500 images supplémentaires\n",
      "3: 0 images déjà présentes.\n"
     ]
    },
    {
     "name": "stderr",
     "output_type": "stream",
     "text": [
      "Traitement 3: 100%|██████████| 500/500 [00:01<00:00, 448.24it/s]\n"
     ]
    },
    {
     "name": "stdout",
     "output_type": "stream",
     "text": [
      "✅ 3: sauvegardé 1500 images supplémentaires\n",
      "4: 0 images déjà présentes.\n"
     ]
    },
    {
     "name": "stderr",
     "output_type": "stream",
     "text": [
      "Traitement 4: 100%|██████████| 500/500 [00:01<00:00, 442.38it/s]\n"
     ]
    },
    {
     "name": "stdout",
     "output_type": "stream",
     "text": [
      "✅ 4: sauvegardé 1500 images supplémentaires\n",
      "5: 0 images déjà présentes.\n"
     ]
    },
    {
     "name": "stderr",
     "output_type": "stream",
     "text": [
      "Traitement 5: 100%|██████████| 500/500 [00:01<00:00, 386.90it/s]\n"
     ]
    },
    {
     "name": "stdout",
     "output_type": "stream",
     "text": [
      "✅ 5: sauvegardé 1500 images supplémentaires\n",
      "6: 0 images déjà présentes.\n"
     ]
    },
    {
     "name": "stderr",
     "output_type": "stream",
     "text": [
      "Traitement 6: 100%|██████████| 500/500 [00:01<00:00, 331.73it/s]\n"
     ]
    },
    {
     "name": "stdout",
     "output_type": "stream",
     "text": [
      "✅ 6: sauvegardé 1500 images supplémentaires\n",
      "🎯 Dataset de validation nettoyé et équilibré avec succès (reprise possible)!\n"
     ]
    }
   ],
   "source": [
    "import os\n",
    "import cv2\n",
    "import numpy as np\n",
    "from tqdm import tqdm\n",
    "from PIL import Image\n",
    "import albumentations as A\n",
    "\n",
    "#  Chemins\n",
    "VAL_DATASET_PATH = r'C:\\Users\\smour\\Documents\\HACKATHON\\hackaton2025\\archive2\\val'\n",
    "OUTPUT_VAL_PATH = r'C:\\Users\\smour\\Documents\\HACKATHON\\hackaton2025\\archive4_preprocessed\\val'\n",
    "\n",
    "IMG_SIZE = 48  # Taille standardisée\n",
    "TARGET_IMAGES_PER_CLASS = 1500  # Objectif par classe\n",
    "IS_GRAYSCALE = True  # Mettre False si on veut de la couleur\n",
    "\n",
    "# Augmentations pour compléter les classes sous-représentées\n",
    "augmentations = A.Compose([\n",
    "    A.HorizontalFlip(p=0.5),\n",
    "    A.Rotate(limit=15, p=0.5),\n",
    "    A.RandomBrightnessContrast(p=0.2),\n",
    "    A.ShiftScaleRotate(shift_limit=0.05, scale_limit=0.05, rotate_limit=10, p=0.5),\n",
    "    A.GaussNoise(p=0.2),\n",
    "])\n",
    "\n",
    "# Vérification des images corrompues\n",
    "def is_valid_image(file_path):\n",
    "    try:\n",
    "        img = Image.open(file_path)\n",
    "        img.verify()\n",
    "        return True\n",
    "    except Exception:\n",
    "        return False\n",
    "\n",
    "# Chargement et prétraitement des images\n",
    "def process_image(file_path):\n",
    "    img = cv2.imread(file_path, cv2.IMREAD_GRAYSCALE if IS_GRAYSCALE else cv2.IMREAD_COLOR)\n",
    "    img = cv2.resize(img, (IMG_SIZE, IMG_SIZE))  # Redimensionner\n",
    "    if IS_GRAYSCALE:\n",
    "        img = np.expand_dims(img, axis=-1)  # Format (48, 48, 1)\n",
    "    else:\n",
    "        img = cv2.cvtColor(img, cv2.COLOR_BGR2RGB)  # Assurer format RGB\n",
    "    img = img.astype(np.float32) / 255.0  # Normalisation entre 0 et 1\n",
    "    return img\n",
    "\n",
    "# Fonction pour traiter le dataset de validation en reprenant là où il s'est arrêté\n",
    "def clean_and_balance_dataset(source_path, output_path):\n",
    "    os.makedirs(output_path, exist_ok=True)\n",
    "\n",
    "    for class_name in os.listdir(source_path):\n",
    "        class_path = os.path.join(source_path, class_name)\n",
    "        output_class_path = os.path.join(output_path, class_name)\n",
    "        \n",
    "        if not os.path.isdir(class_path):\n",
    "            continue  # Ignore les fichiers non dossiers\n",
    "\n",
    "        os.makedirs(output_class_path, exist_ok=True)\n",
    "        \n",
    "        # Vérifier combien d'images sont déjà présentes\n",
    "        existing_files = [f for f in os.listdir(output_class_path) if f.endswith('.png')]\n",
    "        current_count = len(existing_files)\n",
    "        print(f\"{class_name}: {current_count} images déjà présentes.\")\n",
    "        \n",
    "        if current_count >= TARGET_IMAGES_PER_CLASS:\n",
    "            print(f\"Classe {class_name} déjà complète.\")\n",
    "            continue\n",
    "\n",
    "        images = []\n",
    "        valid_files = [f for f in os.listdir(class_path) if is_valid_image(os.path.join(class_path, f))]\n",
    "        \n",
    "        #  Étape 1 : Charger les images originales jusqu'à TARGET_IMAGES_PER_CLASS ou moins\n",
    "        for file in tqdm(valid_files, desc=f\"Traitement {class_name}\"):\n",
    "            file_path = os.path.join(class_path, file)\n",
    "            img = process_image(file_path)\n",
    "            images.append(img)\n",
    "            if len(images) >= TARGET_IMAGES_PER_CLASS:\n",
    "                break\n",
    "        \n",
    "        #  Étape 2 : Si la classe est sous-représentée, générer des images supplémentaires\n",
    "        while len(images) < TARGET_IMAGES_PER_CLASS:\n",
    "            augmented_images = []\n",
    "            for img in images:\n",
    "                augmented = augmentations(image=img)[\"image\"]\n",
    "                augmented_images.append(augmented)\n",
    "                if len(images) + len(augmented_images) >= TARGET_IMAGES_PER_CLASS:\n",
    "                    break\n",
    "            images = np.concatenate((images, np.array(augmented_images)), axis=0)\n",
    "\n",
    "        # Sauvegarde uniquement des images manquantes\n",
    "        for idx in range(current_count, TARGET_IMAGES_PER_CLASS):\n",
    "            img = images[idx]\n",
    "            img_save = (img * 255).astype(np.uint8)  # Conversion en entier\n",
    "            output_file = os.path.join(output_class_path, f\"{idx}.png\")\n",
    "            cv2.imwrite(output_file, img_save)\n",
    "\n",
    "        print(f\" {class_name}: sauvegardé {TARGET_IMAGES_PER_CLASS - current_count} images supplémentaires\")\n",
    "\n",
    "#  Traitement du dataset de validation\n",
    "clean_and_balance_dataset(VAL_DATASET_PATH, OUTPUT_VAL_PATH)\n",
    "print(\" Dataset de validation nettoyé et équilibré avec succès (reprise possible)!\")\n"
   ]
  },
  {
   "cell_type": "code",
   "execution_count": 7,
   "metadata": {},
   "outputs": [
    {
     "name": "stdout",
     "output_type": "stream",
     "text": [
      "Found 175000 images belonging to 7 classes.\n",
      "Found 10500 images belonging to 7 classes.\n"
     ]
    },
    {
     "name": "stderr",
     "output_type": "stream",
     "text": [
      "c:\\Users\\smour\\Documents\\HACKATHON\\.venv\\Lib\\site-packages\\keras\\src\\layers\\convolutional\\base_conv.py:107: UserWarning: Do not pass an `input_shape`/`input_dim` argument to a layer. When using Sequential models, prefer using an `Input(shape)` object as the first layer in the model instead.\n",
      "  super().__init__(activity_regularizer=activity_regularizer, **kwargs)\n"
     ]
    },
    {
     "data": {
      "text/html": [
       "<pre style=\"white-space:pre;overflow-x:auto;line-height:normal;font-family:Menlo,'DejaVu Sans Mono',consolas,'Courier New',monospace\"><span style=\"font-weight: bold\">Model: \"sequential\"</span>\n",
       "</pre>\n"
      ],
      "text/plain": [
       "\u001b[1mModel: \"sequential\"\u001b[0m\n"
      ]
     },
     "metadata": {},
     "output_type": "display_data"
    },
    {
     "data": {
      "text/html": [
       "<pre style=\"white-space:pre;overflow-x:auto;line-height:normal;font-family:Menlo,'DejaVu Sans Mono',consolas,'Courier New',monospace\">┏━━━━━━━━━━━━━━━━━━━━━━━━━━━━━━━━━┳━━━━━━━━━━━━━━━━━━━━━━━━┳━━━━━━━━━━━━━━━┓\n",
       "┃<span style=\"font-weight: bold\"> Layer (type)                    </span>┃<span style=\"font-weight: bold\"> Output Shape           </span>┃<span style=\"font-weight: bold\">       Param # </span>┃\n",
       "┡━━━━━━━━━━━━━━━━━━━━━━━━━━━━━━━━━╇━━━━━━━━━━━━━━━━━━━━━━━━╇━━━━━━━━━━━━━━━┩\n",
       "│ conv2d (<span style=\"color: #0087ff; text-decoration-color: #0087ff\">Conv2D</span>)                 │ (<span style=\"color: #00d7ff; text-decoration-color: #00d7ff\">None</span>, <span style=\"color: #00af00; text-decoration-color: #00af00\">46</span>, <span style=\"color: #00af00; text-decoration-color: #00af00\">46</span>, <span style=\"color: #00af00; text-decoration-color: #00af00\">32</span>)     │           <span style=\"color: #00af00; text-decoration-color: #00af00\">896</span> │\n",
       "├─────────────────────────────────┼────────────────────────┼───────────────┤\n",
       "│ max_pooling2d (<span style=\"color: #0087ff; text-decoration-color: #0087ff\">MaxPooling2D</span>)    │ (<span style=\"color: #00d7ff; text-decoration-color: #00d7ff\">None</span>, <span style=\"color: #00af00; text-decoration-color: #00af00\">23</span>, <span style=\"color: #00af00; text-decoration-color: #00af00\">23</span>, <span style=\"color: #00af00; text-decoration-color: #00af00\">32</span>)     │             <span style=\"color: #00af00; text-decoration-color: #00af00\">0</span> │\n",
       "├─────────────────────────────────┼────────────────────────┼───────────────┤\n",
       "│ conv2d_1 (<span style=\"color: #0087ff; text-decoration-color: #0087ff\">Conv2D</span>)               │ (<span style=\"color: #00d7ff; text-decoration-color: #00d7ff\">None</span>, <span style=\"color: #00af00; text-decoration-color: #00af00\">21</span>, <span style=\"color: #00af00; text-decoration-color: #00af00\">21</span>, <span style=\"color: #00af00; text-decoration-color: #00af00\">64</span>)     │        <span style=\"color: #00af00; text-decoration-color: #00af00\">18,496</span> │\n",
       "├─────────────────────────────────┼────────────────────────┼───────────────┤\n",
       "│ max_pooling2d_1 (<span style=\"color: #0087ff; text-decoration-color: #0087ff\">MaxPooling2D</span>)  │ (<span style=\"color: #00d7ff; text-decoration-color: #00d7ff\">None</span>, <span style=\"color: #00af00; text-decoration-color: #00af00\">10</span>, <span style=\"color: #00af00; text-decoration-color: #00af00\">10</span>, <span style=\"color: #00af00; text-decoration-color: #00af00\">64</span>)     │             <span style=\"color: #00af00; text-decoration-color: #00af00\">0</span> │\n",
       "├─────────────────────────────────┼────────────────────────┼───────────────┤\n",
       "│ conv2d_2 (<span style=\"color: #0087ff; text-decoration-color: #0087ff\">Conv2D</span>)               │ (<span style=\"color: #00d7ff; text-decoration-color: #00d7ff\">None</span>, <span style=\"color: #00af00; text-decoration-color: #00af00\">8</span>, <span style=\"color: #00af00; text-decoration-color: #00af00\">8</span>, <span style=\"color: #00af00; text-decoration-color: #00af00\">128</span>)      │        <span style=\"color: #00af00; text-decoration-color: #00af00\">73,856</span> │\n",
       "├─────────────────────────────────┼────────────────────────┼───────────────┤\n",
       "│ max_pooling2d_2 (<span style=\"color: #0087ff; text-decoration-color: #0087ff\">MaxPooling2D</span>)  │ (<span style=\"color: #00d7ff; text-decoration-color: #00d7ff\">None</span>, <span style=\"color: #00af00; text-decoration-color: #00af00\">4</span>, <span style=\"color: #00af00; text-decoration-color: #00af00\">4</span>, <span style=\"color: #00af00; text-decoration-color: #00af00\">128</span>)      │             <span style=\"color: #00af00; text-decoration-color: #00af00\">0</span> │\n",
       "├─────────────────────────────────┼────────────────────────┼───────────────┤\n",
       "│ flatten (<span style=\"color: #0087ff; text-decoration-color: #0087ff\">Flatten</span>)               │ (<span style=\"color: #00d7ff; text-decoration-color: #00d7ff\">None</span>, <span style=\"color: #00af00; text-decoration-color: #00af00\">2048</span>)           │             <span style=\"color: #00af00; text-decoration-color: #00af00\">0</span> │\n",
       "├─────────────────────────────────┼────────────────────────┼───────────────┤\n",
       "│ dense (<span style=\"color: #0087ff; text-decoration-color: #0087ff\">Dense</span>)                   │ (<span style=\"color: #00d7ff; text-decoration-color: #00d7ff\">None</span>, <span style=\"color: #00af00; text-decoration-color: #00af00\">128</span>)            │       <span style=\"color: #00af00; text-decoration-color: #00af00\">262,272</span> │\n",
       "├─────────────────────────────────┼────────────────────────┼───────────────┤\n",
       "│ dropout (<span style=\"color: #0087ff; text-decoration-color: #0087ff\">Dropout</span>)               │ (<span style=\"color: #00d7ff; text-decoration-color: #00d7ff\">None</span>, <span style=\"color: #00af00; text-decoration-color: #00af00\">128</span>)            │             <span style=\"color: #00af00; text-decoration-color: #00af00\">0</span> │\n",
       "├─────────────────────────────────┼────────────────────────┼───────────────┤\n",
       "│ dense_1 (<span style=\"color: #0087ff; text-decoration-color: #0087ff\">Dense</span>)                 │ (<span style=\"color: #00d7ff; text-decoration-color: #00d7ff\">None</span>, <span style=\"color: #00af00; text-decoration-color: #00af00\">7</span>)              │           <span style=\"color: #00af00; text-decoration-color: #00af00\">903</span> │\n",
       "└─────────────────────────────────┴────────────────────────┴───────────────┘\n",
       "</pre>\n"
      ],
      "text/plain": [
       "┏━━━━━━━━━━━━━━━━━━━━━━━━━━━━━━━━━┳━━━━━━━━━━━━━━━━━━━━━━━━┳━━━━━━━━━━━━━━━┓\n",
       "┃\u001b[1m \u001b[0m\u001b[1mLayer (type)                   \u001b[0m\u001b[1m \u001b[0m┃\u001b[1m \u001b[0m\u001b[1mOutput Shape          \u001b[0m\u001b[1m \u001b[0m┃\u001b[1m \u001b[0m\u001b[1m      Param #\u001b[0m\u001b[1m \u001b[0m┃\n",
       "┡━━━━━━━━━━━━━━━━━━━━━━━━━━━━━━━━━╇━━━━━━━━━━━━━━━━━━━━━━━━╇━━━━━━━━━━━━━━━┩\n",
       "│ conv2d (\u001b[38;5;33mConv2D\u001b[0m)                 │ (\u001b[38;5;45mNone\u001b[0m, \u001b[38;5;34m46\u001b[0m, \u001b[38;5;34m46\u001b[0m, \u001b[38;5;34m32\u001b[0m)     │           \u001b[38;5;34m896\u001b[0m │\n",
       "├─────────────────────────────────┼────────────────────────┼───────────────┤\n",
       "│ max_pooling2d (\u001b[38;5;33mMaxPooling2D\u001b[0m)    │ (\u001b[38;5;45mNone\u001b[0m, \u001b[38;5;34m23\u001b[0m, \u001b[38;5;34m23\u001b[0m, \u001b[38;5;34m32\u001b[0m)     │             \u001b[38;5;34m0\u001b[0m │\n",
       "├─────────────────────────────────┼────────────────────────┼───────────────┤\n",
       "│ conv2d_1 (\u001b[38;5;33mConv2D\u001b[0m)               │ (\u001b[38;5;45mNone\u001b[0m, \u001b[38;5;34m21\u001b[0m, \u001b[38;5;34m21\u001b[0m, \u001b[38;5;34m64\u001b[0m)     │        \u001b[38;5;34m18,496\u001b[0m │\n",
       "├─────────────────────────────────┼────────────────────────┼───────────────┤\n",
       "│ max_pooling2d_1 (\u001b[38;5;33mMaxPooling2D\u001b[0m)  │ (\u001b[38;5;45mNone\u001b[0m, \u001b[38;5;34m10\u001b[0m, \u001b[38;5;34m10\u001b[0m, \u001b[38;5;34m64\u001b[0m)     │             \u001b[38;5;34m0\u001b[0m │\n",
       "├─────────────────────────────────┼────────────────────────┼───────────────┤\n",
       "│ conv2d_2 (\u001b[38;5;33mConv2D\u001b[0m)               │ (\u001b[38;5;45mNone\u001b[0m, \u001b[38;5;34m8\u001b[0m, \u001b[38;5;34m8\u001b[0m, \u001b[38;5;34m128\u001b[0m)      │        \u001b[38;5;34m73,856\u001b[0m │\n",
       "├─────────────────────────────────┼────────────────────────┼───────────────┤\n",
       "│ max_pooling2d_2 (\u001b[38;5;33mMaxPooling2D\u001b[0m)  │ (\u001b[38;5;45mNone\u001b[0m, \u001b[38;5;34m4\u001b[0m, \u001b[38;5;34m4\u001b[0m, \u001b[38;5;34m128\u001b[0m)      │             \u001b[38;5;34m0\u001b[0m │\n",
       "├─────────────────────────────────┼────────────────────────┼───────────────┤\n",
       "│ flatten (\u001b[38;5;33mFlatten\u001b[0m)               │ (\u001b[38;5;45mNone\u001b[0m, \u001b[38;5;34m2048\u001b[0m)           │             \u001b[38;5;34m0\u001b[0m │\n",
       "├─────────────────────────────────┼────────────────────────┼───────────────┤\n",
       "│ dense (\u001b[38;5;33mDense\u001b[0m)                   │ (\u001b[38;5;45mNone\u001b[0m, \u001b[38;5;34m128\u001b[0m)            │       \u001b[38;5;34m262,272\u001b[0m │\n",
       "├─────────────────────────────────┼────────────────────────┼───────────────┤\n",
       "│ dropout (\u001b[38;5;33mDropout\u001b[0m)               │ (\u001b[38;5;45mNone\u001b[0m, \u001b[38;5;34m128\u001b[0m)            │             \u001b[38;5;34m0\u001b[0m │\n",
       "├─────────────────────────────────┼────────────────────────┼───────────────┤\n",
       "│ dense_1 (\u001b[38;5;33mDense\u001b[0m)                 │ (\u001b[38;5;45mNone\u001b[0m, \u001b[38;5;34m7\u001b[0m)              │           \u001b[38;5;34m903\u001b[0m │\n",
       "└─────────────────────────────────┴────────────────────────┴───────────────┘\n"
      ]
     },
     "metadata": {},
     "output_type": "display_data"
    },
    {
     "data": {
      "text/html": [
       "<pre style=\"white-space:pre;overflow-x:auto;line-height:normal;font-family:Menlo,'DejaVu Sans Mono',consolas,'Courier New',monospace\"><span style=\"font-weight: bold\"> Total params: </span><span style=\"color: #00af00; text-decoration-color: #00af00\">356,423</span> (1.36 MB)\n",
       "</pre>\n"
      ],
      "text/plain": [
       "\u001b[1m Total params: \u001b[0m\u001b[38;5;34m356,423\u001b[0m (1.36 MB)\n"
      ]
     },
     "metadata": {},
     "output_type": "display_data"
    },
    {
     "data": {
      "text/html": [
       "<pre style=\"white-space:pre;overflow-x:auto;line-height:normal;font-family:Menlo,'DejaVu Sans Mono',consolas,'Courier New',monospace\"><span style=\"font-weight: bold\"> Trainable params: </span><span style=\"color: #00af00; text-decoration-color: #00af00\">356,423</span> (1.36 MB)\n",
       "</pre>\n"
      ],
      "text/plain": [
       "\u001b[1m Trainable params: \u001b[0m\u001b[38;5;34m356,423\u001b[0m (1.36 MB)\n"
      ]
     },
     "metadata": {},
     "output_type": "display_data"
    },
    {
     "data": {
      "text/html": [
       "<pre style=\"white-space:pre;overflow-x:auto;line-height:normal;font-family:Menlo,'DejaVu Sans Mono',consolas,'Courier New',monospace\"><span style=\"font-weight: bold\"> Non-trainable params: </span><span style=\"color: #00af00; text-decoration-color: #00af00\">0</span> (0.00 B)\n",
       "</pre>\n"
      ],
      "text/plain": [
       "\u001b[1m Non-trainable params: \u001b[0m\u001b[38;5;34m0\u001b[0m (0.00 B)\n"
      ]
     },
     "metadata": {},
     "output_type": "display_data"
    },
    {
     "name": "stderr",
     "output_type": "stream",
     "text": [
      "c:\\Users\\smour\\Documents\\HACKATHON\\.venv\\Lib\\site-packages\\keras\\src\\trainers\\data_adapters\\py_dataset_adapter.py:121: UserWarning: Your `PyDataset` class should call `super().__init__(**kwargs)` in its constructor. `**kwargs` can include `workers`, `use_multiprocessing`, `max_queue_size`. Do not pass these arguments to `fit()`, as they will be ignored.\n",
      "  self._warn_if_super_not_called()\n"
     ]
    },
    {
     "name": "stdout",
     "output_type": "stream",
     "text": [
      "Epoch 1/30\n",
      "\u001b[1m5468/5468\u001b[0m \u001b[32m━━━━━━━━━━━━━━━━━━━━\u001b[0m\u001b[37m\u001b[0m \u001b[1m0s\u001b[0m 276ms/step - accuracy: 0.3280 - loss: 1.6465\n",
      "Epoch 1: val_accuracy improved from -inf to 0.32279, saving model to best_emotion_model.h5\n"
     ]
    },
    {
     "name": "stderr",
     "output_type": "stream",
     "text": [
      "WARNING:absl:You are saving your model as an HDF5 file via `model.save()` or `keras.saving.save_model(model)`. This file format is considered legacy. We recommend using instead the native Keras format, e.g. `model.save('my_model.keras')` or `keras.saving.save_model(model, 'my_model.keras')`. \n"
     ]
    },
    {
     "name": "stdout",
     "output_type": "stream",
     "text": [
      "\u001b[1m5468/5468\u001b[0m \u001b[32m━━━━━━━━━━━━━━━━━━━━\u001b[0m\u001b[37m\u001b[0m \u001b[1m1615s\u001b[0m 295ms/step - accuracy: 0.3280 - loss: 1.6465 - val_accuracy: 0.3228 - val_loss: 2.6476 - learning_rate: 0.0010\n",
      "Epoch 2/30\n",
      "\u001b[1m   1/5468\u001b[0m \u001b[37m━━━━━━━━━━━━━━━━━━━━\u001b[0m \u001b[1m1:44\u001b[0m 19ms/step - accuracy: 0.4375 - loss: 1.3603"
     ]
    },
    {
     "name": "stderr",
     "output_type": "stream",
     "text": [
      "c:\\Users\\smour\\Documents\\HACKATHON\\.venv\\Lib\\site-packages\\keras\\src\\trainers\\epoch_iterator.py:107: UserWarning: Your input ran out of data; interrupting training. Make sure that your dataset or generator can generate at least `steps_per_epoch * epochs` batches. You may need to use the `.repeat()` function when building your dataset.\n",
      "  self._interrupted_warning()\n"
     ]
    },
    {
     "name": "stdout",
     "output_type": "stream",
     "text": [
      "\n",
      "Epoch 2: val_accuracy improved from 0.32279 to 0.32308, saving model to best_emotion_model.h5\n"
     ]
    },
    {
     "name": "stderr",
     "output_type": "stream",
     "text": [
      "WARNING:absl:You are saving your model as an HDF5 file via `model.save()` or `keras.saving.save_model(model)`. This file format is considered legacy. We recommend using instead the native Keras format, e.g. `model.save('my_model.keras')` or `keras.saving.save_model(model, 'my_model.keras')`. \n"
     ]
    },
    {
     "name": "stdout",
     "output_type": "stream",
     "text": [
      "\u001b[1m5468/5468\u001b[0m \u001b[32m━━━━━━━━━━━━━━━━━━━━\u001b[0m\u001b[37m\u001b[0m \u001b[1m8s\u001b[0m 2ms/step - accuracy: 0.4375 - loss: 1.3603 - val_accuracy: 0.3231 - val_loss: 2.6734 - learning_rate: 0.0010\n",
      "Epoch 3/30\n",
      "\u001b[1m5468/5468\u001b[0m \u001b[32m━━━━━━━━━━━━━━━━━━━━\u001b[0m\u001b[37m\u001b[0m \u001b[1m0s\u001b[0m 61ms/step - accuracy: 0.4881 - loss: 1.3170\n",
      "Epoch 3: val_accuracy improved from 0.32308 to 0.32631, saving model to best_emotion_model.h5\n"
     ]
    },
    {
     "name": "stderr",
     "output_type": "stream",
     "text": [
      "WARNING:absl:You are saving your model as an HDF5 file via `model.save()` or `keras.saving.save_model(model)`. This file format is considered legacy. We recommend using instead the native Keras format, e.g. `model.save('my_model.keras')` or `keras.saving.save_model(model, 'my_model.keras')`. \n"
     ]
    },
    {
     "name": "stdout",
     "output_type": "stream",
     "text": [
      "\u001b[1m5468/5468\u001b[0m \u001b[32m━━━━━━━━━━━━━━━━━━━━\u001b[0m\u001b[37m\u001b[0m \u001b[1m346s\u001b[0m 63ms/step - accuracy: 0.4881 - loss: 1.3170 - val_accuracy: 0.3263 - val_loss: 2.8263 - learning_rate: 0.0010\n",
      "Epoch 4/30\n",
      "\u001b[1m   1/5468\u001b[0m \u001b[37m━━━━━━━━━━━━━━━━━━━━\u001b[0m \u001b[1m1:40\u001b[0m 18ms/step - accuracy: 0.5625 - loss: 1.0355\n",
      "Epoch 4: val_accuracy improved from 0.32631 to 0.32746, saving model to best_emotion_model.h5\n"
     ]
    },
    {
     "name": "stderr",
     "output_type": "stream",
     "text": [
      "WARNING:absl:You are saving your model as an HDF5 file via `model.save()` or `keras.saving.save_model(model)`. This file format is considered legacy. We recommend using instead the native Keras format, e.g. `model.save('my_model.keras')` or `keras.saving.save_model(model, 'my_model.keras')`. \n"
     ]
    },
    {
     "name": "stdout",
     "output_type": "stream",
     "text": [
      "\u001b[1m5468/5468\u001b[0m \u001b[32m━━━━━━━━━━━━━━━━━━━━\u001b[0m\u001b[37m\u001b[0m \u001b[1m5s\u001b[0m 977us/step - accuracy: 0.5625 - loss: 1.0355 - val_accuracy: 0.3275 - val_loss: 2.8522 - learning_rate: 0.0010\n",
      "Epoch 5/30\n",
      "\u001b[1m5468/5468\u001b[0m \u001b[32m━━━━━━━━━━━━━━━━━━━━\u001b[0m\u001b[37m\u001b[0m \u001b[1m0s\u001b[0m 37ms/step - accuracy: 0.5137 - loss: 1.2553\n",
      "Epoch 5: val_accuracy improved from 0.32746 to 0.33575, saving model to best_emotion_model.h5\n"
     ]
    },
    {
     "name": "stderr",
     "output_type": "stream",
     "text": [
      "WARNING:absl:You are saving your model as an HDF5 file via `model.save()` or `keras.saving.save_model(model)`. This file format is considered legacy. We recommend using instead the native Keras format, e.g. `model.save('my_model.keras')` or `keras.saving.save_model(model, 'my_model.keras')`. \n"
     ]
    },
    {
     "name": "stdout",
     "output_type": "stream",
     "text": [
      "\u001b[1m5468/5468\u001b[0m \u001b[32m━━━━━━━━━━━━━━━━━━━━\u001b[0m\u001b[37m\u001b[0m \u001b[1m213s\u001b[0m 39ms/step - accuracy: 0.5137 - loss: 1.2553 - val_accuracy: 0.3357 - val_loss: 2.9250 - learning_rate: 0.0010\n",
      "Epoch 6/30\n",
      "\u001b[1m   1/5468\u001b[0m \u001b[37m━━━━━━━━━━━━━━━━━━━━\u001b[0m \u001b[1m1:35\u001b[0m 17ms/step - accuracy: 0.4375 - loss: 1.4566\n",
      "Epoch 6: val_accuracy did not improve from 0.33575\n",
      "\u001b[1m5468/5468\u001b[0m \u001b[32m━━━━━━━━━━━━━━━━━━━━\u001b[0m\u001b[37m\u001b[0m \u001b[1m5s\u001b[0m 951us/step - accuracy: 0.4375 - loss: 1.4566 - val_accuracy: 0.3354 - val_loss: 2.8983 - learning_rate: 0.0010\n",
      "Epoch 7/30\n",
      "\u001b[1m5468/5468\u001b[0m \u001b[32m━━━━━━━━━━━━━━━━━━━━\u001b[0m\u001b[37m\u001b[0m \u001b[1m0s\u001b[0m 38ms/step - accuracy: 0.5281 - loss: 1.2186\n",
      "Epoch 7: val_accuracy improved from 0.33575 to 0.33880, saving model to best_emotion_model.h5\n"
     ]
    },
    {
     "name": "stderr",
     "output_type": "stream",
     "text": [
      "WARNING:absl:You are saving your model as an HDF5 file via `model.save()` or `keras.saving.save_model(model)`. This file format is considered legacy. We recommend using instead the native Keras format, e.g. `model.save('my_model.keras')` or `keras.saving.save_model(model, 'my_model.keras')`. \n"
     ]
    },
    {
     "name": "stdout",
     "output_type": "stream",
     "text": [
      "\u001b[1m5468/5468\u001b[0m \u001b[32m━━━━━━━━━━━━━━━━━━━━\u001b[0m\u001b[37m\u001b[0m \u001b[1m220s\u001b[0m 40ms/step - accuracy: 0.5281 - loss: 1.2186 - val_accuracy: 0.3388 - val_loss: 2.8325 - learning_rate: 0.0010\n",
      "Epoch 8/30\n",
      "\u001b[1m   1/5468\u001b[0m \u001b[37m━━━━━━━━━━━━━━━━━━━━\u001b[0m \u001b[1m1:49\u001b[0m 20ms/step - accuracy: 0.4688 - loss: 1.1982\n",
      "Epoch 8: val_accuracy did not improve from 0.33880\n",
      "\u001b[1m5468/5468\u001b[0m \u001b[32m━━━━━━━━━━━━━━━━━━━━\u001b[0m\u001b[37m\u001b[0m \u001b[1m5s\u001b[0m 909us/step - accuracy: 0.4688 - loss: 1.1982 - val_accuracy: 0.3349 - val_loss: 2.8982 - learning_rate: 0.0010\n",
      "Epoch 9/30\n",
      "\u001b[1m5468/5468\u001b[0m \u001b[32m━━━━━━━━━━━━━━━━━━━━\u001b[0m\u001b[37m\u001b[0m \u001b[1m0s\u001b[0m 39ms/step - accuracy: 0.5408 - loss: 1.1900\n",
      "Epoch 9: val_accuracy did not improve from 0.33880\n",
      "\u001b[1m5468/5468\u001b[0m \u001b[32m━━━━━━━━━━━━━━━━━━━━\u001b[0m\u001b[37m\u001b[0m \u001b[1m220s\u001b[0m 40ms/step - accuracy: 0.5408 - loss: 1.1900 - val_accuracy: 0.3265 - val_loss: 3.4150 - learning_rate: 0.0010\n",
      "Epoch 10/30\n",
      "\u001b[1m   1/5468\u001b[0m \u001b[37m━━━━━━━━━━━━━━━━━━━━\u001b[0m \u001b[1m1:16\u001b[0m 14ms/step - accuracy: 0.4688 - loss: 1.4312\n",
      "Epoch 10: val_accuracy did not improve from 0.33880\n",
      "\n",
      "Epoch 10: ReduceLROnPlateau reducing learning rate to 0.0005000000237487257.\n",
      "\u001b[1m5468/5468\u001b[0m \u001b[32m━━━━━━━━━━━━━━━━━━━━\u001b[0m\u001b[37m\u001b[0m \u001b[1m5s\u001b[0m 827us/step - accuracy: 0.4688 - loss: 1.4312 - val_accuracy: 0.3263 - val_loss: 3.3989 - learning_rate: 0.0010\n",
      "Epoch 11/30\n",
      "\u001b[1m5468/5468\u001b[0m \u001b[32m━━━━━━━━━━━━━━━━━━━━\u001b[0m\u001b[37m\u001b[0m \u001b[1m0s\u001b[0m 26ms/step - accuracy: 0.5587 - loss: 1.1440\n",
      "Epoch 11: val_accuracy improved from 0.33880 to 0.34165, saving model to best_emotion_model.h5\n"
     ]
    },
    {
     "name": "stderr",
     "output_type": "stream",
     "text": [
      "WARNING:absl:You are saving your model as an HDF5 file via `model.save()` or `keras.saving.save_model(model)`. This file format is considered legacy. We recommend using instead the native Keras format, e.g. `model.save('my_model.keras')` or `keras.saving.save_model(model, 'my_model.keras')`. \n"
     ]
    },
    {
     "name": "stdout",
     "output_type": "stream",
     "text": [
      "\u001b[1m5468/5468\u001b[0m \u001b[32m━━━━━━━━━━━━━━━━━━━━\u001b[0m\u001b[37m\u001b[0m \u001b[1m148s\u001b[0m 27ms/step - accuracy: 0.5587 - loss: 1.1440 - val_accuracy: 0.3417 - val_loss: 3.1517 - learning_rate: 5.0000e-04\n",
      "Epoch 12/30\n",
      "\u001b[1m   1/5468\u001b[0m \u001b[37m━━━━━━━━━━━━━━━━━━━━\u001b[0m \u001b[1m1:22\u001b[0m 15ms/step - accuracy: 0.5625 - loss: 1.1306\n",
      "Epoch 12: val_accuracy improved from 0.34165 to 0.34232, saving model to best_emotion_model.h5\n"
     ]
    },
    {
     "name": "stderr",
     "output_type": "stream",
     "text": [
      "WARNING:absl:You are saving your model as an HDF5 file via `model.save()` or `keras.saving.save_model(model)`. This file format is considered legacy. We recommend using instead the native Keras format, e.g. `model.save('my_model.keras')` or `keras.saving.save_model(model, 'my_model.keras')`. \n"
     ]
    },
    {
     "name": "stdout",
     "output_type": "stream",
     "text": [
      "\u001b[1m5468/5468\u001b[0m \u001b[32m━━━━━━━━━━━━━━━━━━━━\u001b[0m\u001b[37m\u001b[0m \u001b[1m5s\u001b[0m 853us/step - accuracy: 0.5625 - loss: 1.1306 - val_accuracy: 0.3423 - val_loss: 3.1211 - learning_rate: 5.0000e-04\n",
      "Epoch 13/30\n",
      "\u001b[1m5467/5468\u001b[0m \u001b[32m━━━━━━━━━━━━━━━━━━━\u001b[0m\u001b[37m━\u001b[0m \u001b[1m0s\u001b[0m 30ms/step - accuracy: 0.5716 - loss: 1.1109\n",
      "Epoch 13: val_accuracy did not improve from 0.34232\n",
      "\u001b[1m5468/5468\u001b[0m \u001b[32m━━━━━━━━━━━━━━━━━━━━\u001b[0m\u001b[37m\u001b[0m \u001b[1m173s\u001b[0m 32ms/step - accuracy: 0.5716 - loss: 1.1109 - val_accuracy: 0.3397 - val_loss: 3.2545 - learning_rate: 5.0000e-04\n",
      "Epoch 14/30\n",
      "\u001b[1m   1/5468\u001b[0m \u001b[37m━━━━━━━━━━━━━━━━━━━━\u001b[0m \u001b[1m2:24\u001b[0m 27ms/step - accuracy: 0.5000 - loss: 1.0347\n",
      "Epoch 14: val_accuracy did not improve from 0.34232\n",
      "\u001b[1m5468/5468\u001b[0m \u001b[32m━━━━━━━━━━━━━━━━━━━━\u001b[0m\u001b[37m\u001b[0m \u001b[1m7s\u001b[0m 1ms/step - accuracy: 0.5000 - loss: 1.0347 - val_accuracy: 0.3384 - val_loss: 3.2829 - learning_rate: 5.0000e-04\n",
      "Epoch 15/30\n",
      "\u001b[1m5467/5468\u001b[0m \u001b[32m━━━━━━━━━━━━━━━━━━━\u001b[0m\u001b[37m━\u001b[0m \u001b[1m0s\u001b[0m 38ms/step - accuracy: 0.5783 - loss: 1.0983\n",
      "Epoch 15: val_accuracy improved from 0.34232 to 0.34785, saving model to best_emotion_model.h5\n"
     ]
    },
    {
     "name": "stderr",
     "output_type": "stream",
     "text": [
      "WARNING:absl:You are saving your model as an HDF5 file via `model.save()` or `keras.saving.save_model(model)`. This file format is considered legacy. We recommend using instead the native Keras format, e.g. `model.save('my_model.keras')` or `keras.saving.save_model(model, 'my_model.keras')`. \n"
     ]
    },
    {
     "name": "stdout",
     "output_type": "stream",
     "text": [
      "\u001b[1m5468/5468\u001b[0m \u001b[32m━━━━━━━━━━━━━━━━━━━━\u001b[0m\u001b[37m\u001b[0m \u001b[1m218s\u001b[0m 40ms/step - accuracy: 0.5783 - loss: 1.0983 - val_accuracy: 0.3478 - val_loss: 3.2087 - learning_rate: 5.0000e-04\n",
      "Epoch 16/30\n",
      "\u001b[1m   1/5468\u001b[0m \u001b[37m━━━━━━━━━━━━━━━━━━━━\u001b[0m \u001b[1m1:54\u001b[0m 21ms/step - accuracy: 0.5938 - loss: 1.0010\n",
      "Epoch 16: val_accuracy improved from 0.34785 to 0.34804, saving model to best_emotion_model.h5\n"
     ]
    },
    {
     "name": "stderr",
     "output_type": "stream",
     "text": [
      "WARNING:absl:You are saving your model as an HDF5 file via `model.save()` or `keras.saving.save_model(model)`. This file format is considered legacy. We recommend using instead the native Keras format, e.g. `model.save('my_model.keras')` or `keras.saving.save_model(model, 'my_model.keras')`. \n"
     ]
    },
    {
     "name": "stdout",
     "output_type": "stream",
     "text": [
      "\u001b[1m5468/5468\u001b[0m \u001b[32m━━━━━━━━━━━━━━━━━━━━\u001b[0m\u001b[37m\u001b[0m \u001b[1m7s\u001b[0m 1ms/step - accuracy: 0.5938 - loss: 1.0010 - val_accuracy: 0.3480 - val_loss: 3.2100 - learning_rate: 5.0000e-04\n",
      "Epoch 17/30\n",
      "\u001b[1m5468/5468\u001b[0m \u001b[32m━━━━━━━━━━━━━━━━━━━━\u001b[0m\u001b[37m\u001b[0m \u001b[1m0s\u001b[0m 36ms/step - accuracy: 0.5833 - loss: 1.0794\n",
      "Epoch 17: val_accuracy improved from 0.34804 to 0.36023, saving model to best_emotion_model.h5\n"
     ]
    },
    {
     "name": "stderr",
     "output_type": "stream",
     "text": [
      "WARNING:absl:You are saving your model as an HDF5 file via `model.save()` or `keras.saving.save_model(model)`. This file format is considered legacy. We recommend using instead the native Keras format, e.g. `model.save('my_model.keras')` or `keras.saving.save_model(model, 'my_model.keras')`. \n"
     ]
    },
    {
     "name": "stdout",
     "output_type": "stream",
     "text": [
      "\u001b[1m5468/5468\u001b[0m \u001b[32m━━━━━━━━━━━━━━━━━━━━\u001b[0m\u001b[37m\u001b[0m \u001b[1m201s\u001b[0m 37ms/step - accuracy: 0.5833 - loss: 1.0794 - val_accuracy: 0.3602 - val_loss: 3.0941 - learning_rate: 5.0000e-04\n",
      "Epoch 18/30\n",
      "\u001b[1m   1/5468\u001b[0m \u001b[37m━━━━━━━━━━━━━━━━━━━━\u001b[0m \u001b[1m1:55\u001b[0m 21ms/step - accuracy: 0.5625 - loss: 1.1082\n",
      "Epoch 18: val_accuracy did not improve from 0.36023\n",
      "\u001b[1m5468/5468\u001b[0m \u001b[32m━━━━━━━━━━━━━━━━━━━━\u001b[0m\u001b[37m\u001b[0m \u001b[1m5s\u001b[0m 1000us/step - accuracy: 0.5625 - loss: 1.1082 - val_accuracy: 0.3599 - val_loss: 3.0767 - learning_rate: 5.0000e-04\n",
      "Epoch 19/30\n",
      "\u001b[1m5468/5468\u001b[0m \u001b[32m━━━━━━━━━━━━━━━━━━━━\u001b[0m\u001b[37m\u001b[0m \u001b[1m0s\u001b[0m 26ms/step - accuracy: 0.5846 - loss: 1.0743\n",
      "Epoch 19: val_accuracy did not improve from 0.36023\n",
      "\u001b[1m5468/5468\u001b[0m \u001b[32m━━━━━━━━━━━━━━━━━━━━\u001b[0m\u001b[37m\u001b[0m \u001b[1m154s\u001b[0m 28ms/step - accuracy: 0.5846 - loss: 1.0743 - val_accuracy: 0.3563 - val_loss: 3.5220 - learning_rate: 5.0000e-04\n",
      "Epoch 20/30\n",
      "\u001b[1m   1/5468\u001b[0m \u001b[37m━━━━━━━━━━━━━━━━━━━━\u001b[0m \u001b[1m1:22\u001b[0m 15ms/step - accuracy: 0.6875 - loss: 1.0545\n",
      "Epoch 20: val_accuracy did not improve from 0.36023\n",
      "\n",
      "Epoch 20: ReduceLROnPlateau reducing learning rate to 0.0002500000118743628.\n",
      "\u001b[1m5468/5468\u001b[0m \u001b[32m━━━━━━━━━━━━━━━━━━━━\u001b[0m\u001b[37m\u001b[0m \u001b[1m6s\u001b[0m 1ms/step - accuracy: 0.6875 - loss: 1.0545 - val_accuracy: 0.3558 - val_loss: 3.5277 - learning_rate: 5.0000e-04\n",
      "Epoch 21/30\n",
      "\u001b[1m5467/5468\u001b[0m \u001b[32m━━━━━━━━━━━━━━━━━━━\u001b[0m\u001b[37m━\u001b[0m \u001b[1m0s\u001b[0m 44ms/step - accuracy: 0.6009 - loss: 1.0350\n",
      "Epoch 21: val_accuracy did not improve from 0.36023\n",
      "\u001b[1m5468/5468\u001b[0m \u001b[32m━━━━━━━━━━━━━━━━━━━━\u001b[0m\u001b[37m\u001b[0m \u001b[1m252s\u001b[0m 46ms/step - accuracy: 0.6009 - loss: 1.0350 - val_accuracy: 0.3521 - val_loss: 3.7458 - learning_rate: 2.5000e-04\n",
      "Epoch 22/30\n",
      "\u001b[1m   1/5468\u001b[0m \u001b[37m━━━━━━━━━━━━━━━━━━━━\u001b[0m \u001b[1m1:09\u001b[0m 13ms/step - accuracy: 0.6250 - loss: 0.9418\n",
      "Epoch 22: val_accuracy did not improve from 0.36023\n",
      "\u001b[1m5468/5468\u001b[0m \u001b[32m━━━━━━━━━━━━━━━━━━━━\u001b[0m\u001b[37m\u001b[0m \u001b[1m5s\u001b[0m 954us/step - accuracy: 0.6250 - loss: 0.9418 - val_accuracy: 0.3522 - val_loss: 3.7579 - learning_rate: 2.5000e-04\n",
      "Epoch 22: early stopping\n",
      "Restoring model weights from the end of the best epoch: 17.\n",
      "\u001b[1m329/329\u001b[0m \u001b[32m━━━━━━━━━━━━━━━━━━━━\u001b[0m\u001b[37m\u001b[0m \u001b[1m5s\u001b[0m 15ms/step - accuracy: 0.3559 - loss: 3.7450\n",
      "Précision de validation finale : 36.02%\n",
      "\u001b[1m329/329\u001b[0m \u001b[32m━━━━━━━━━━━━━━━━━━━━\u001b[0m\u001b[37m\u001b[0m \u001b[1m5s\u001b[0m 15ms/step\n"
     ]
    },
    {
     "data": {
      "image/png": "[encoded data removed]",
      "text/plain": [
       "<Figure size 800x600 with 2 Axes>"
      ]
     },
     "metadata": {},
     "output_type": "display_data"
    },
    {
     "name": "stderr",
     "output_type": "stream",
     "text": [
      "WARNING:absl:You are saving your model as an HDF5 file via `model.save()` or `keras.saving.save_model(model)`. This file format is considered legacy. We recommend using instead the native Keras format, e.g. `model.save('my_model.keras')` or `keras.saving.save_model(model, 'my_model.keras')`. \n"
     ]
    },
    {
     "name": "stdout",
     "output_type": "stream",
     "text": [
      "Rapport de classification :\n",
      "              precision    recall  f1-score   support\n",
      "\n",
      "           0       0.32      0.32      0.32      1500\n",
      "           1       0.67      0.42      0.51      1500\n",
      "           2       0.29      0.39      0.33      1500\n",
      "           3       0.38      0.36      0.37      1500\n",
      "           4       0.38      0.39      0.38      1500\n",
      "           5       0.26      0.33      0.29      1500\n",
      "           6       0.41      0.31      0.35      1500\n",
      "\n",
      "    accuracy                           0.36     10500\n",
      "   macro avg       0.39      0.36      0.37     10500\n",
      "weighted avg       0.39      0.36      0.37     10500\n",
      "\n"
     ]
    }
   ],
   "source": [
    "import os\n",
    "import tensorflow as tf\n",
    "from tensorflow.keras.preprocessing.image import ImageDataGenerator\n",
    "from tensorflow.keras.models import Sequential\n",
    "from tensorflow.keras.layers import Conv2D, MaxPooling2D, Flatten, Dense, Dropout\n",
    "from tensorflow.keras.callbacks import EarlyStopping, ModelCheckpoint, ReduceLROnPlateau\n",
    "import numpy as np\n",
    "import matplotlib.pyplot as plt\n",
    "import seaborn as sns\n",
    "from sklearn.metrics import confusion_matrix, classification_report\n",
    "\n",
    "#  Chemins vers les données prétraitées\n",
    "TRAIN_DIR = r'C:\\Users\\smour\\Documents\\HACKATHON\\hackaton2025\\archive4_preprocessed\\train'\n",
    "VAL_DIR   = r'C:\\Users\\smour\\Documents\\HACKATHON\\hackaton2025\\archive4_preprocessed\\val'\n",
    "\n",
    "# Paramètres\n",
    "IMG_SIZE = 48\n",
    "BATCH_SIZE = 32\n",
    "EPOCHS = 30\n",
    "# Exemple: si vous avez 7 classes (ex: 0,1,2,3,4,5,6)\n",
    "NUM_CLASSES = 7\n",
    "\n",
    "# Création des générateurs d'images\n",
    "train_datagen = ImageDataGenerator(rescale=1./255)\n",
    "val_datagen   = ImageDataGenerator(rescale=1./255)\n",
    "\n",
    "train_generator = train_datagen.flow_from_directory(\n",
    "    TRAIN_DIR,\n",
    "    target_size=(IMG_SIZE, IMG_SIZE),\n",
    "    color_mode='rgb',\n",
    "    batch_size=BATCH_SIZE,\n",
    "    class_mode='categorical',\n",
    "    shuffle=True\n",
    ")\n",
    "\n",
    "val_generator = val_datagen.flow_from_directory(\n",
    "    VAL_DIR,\n",
    "    target_size=(IMG_SIZE, IMG_SIZE),\n",
    "    color_mode='rgb',\n",
    "    batch_size=BATCH_SIZE,\n",
    "    class_mode='categorical',\n",
    "    shuffle=False  # Important pour conserver l'ordre des étiquettes\n",
    ")\n",
    "\n",
    "# Construction d'un modèle CNN simple\n",
    "model = Sequential([\n",
    "    Conv2D(32, (3, 3), activation='relu', input_shape=(IMG_SIZE, IMG_SIZE, 3)),\n",
    "    MaxPooling2D(pool_size=(2, 2)),\n",
    "    \n",
    "    Conv2D(64, (3, 3), activation='relu'),\n",
    "    MaxPooling2D(pool_size=(2, 2)),\n",
    "    \n",
    "    Conv2D(128, (3, 3), activation='relu'),\n",
    "    MaxPooling2D(pool_size=(2, 2)),\n",
    "    \n",
    "    Flatten(),\n",
    "    Dense(128, activation='relu'),\n",
    "    Dropout(0.5),\n",
    "    Dense(NUM_CLASSES, activation='softmax')\n",
    "])\n",
    "\n",
    "model.compile(loss='categorical_crossentropy',\n",
    "              optimizer='adam',\n",
    "              metrics=['accuracy'])\n",
    "\n",
    "model.summary()\n",
    "\n",
    "# Callbacks\n",
    "callbacks = [\n",
    "    EarlyStopping(monitor='val_accuracy', patience=5, verbose=1, restore_best_weights=True),\n",
    "    ModelCheckpoint(\"best_emotion_model.h5\", monitor='val_accuracy', verbose=1, save_best_only=True),\n",
    "    ReduceLROnPlateau(monitor='val_accuracy', factor=0.5, patience=3, verbose=1)\n",
    "]\n",
    "\n",
    "# Entraînement\n",
    "history = model.fit(\n",
    "    train_generator,\n",
    "    steps_per_epoch=train_generator.samples // BATCH_SIZE,\n",
    "    validation_data=val_generator,\n",
    "    validation_steps=val_generator.samples // BATCH_SIZE,\n",
    "    epochs=EPOCHS,\n",
    "    callbacks=callbacks\n",
    ")\n",
    "\n",
    "# Évaluation finale sur le jeu de validation\n",
    "val_loss, val_acc = model.evaluate(val_generator, verbose=1)\n",
    "print(f\"Précision de validation finale : {val_acc*100:.2f}%\")\n",
    "\n",
    "# --- Calcul et affichage de la matrice de confusion et du rapport de classification ---\n",
    "\n",
    "# Prédictions sur l'ensemble de validation\n",
    "# (Utilisez suffisamment d'étapes pour couvrir toutes les images)\n",
    "Y_pred = model.predict(val_generator, steps=(val_generator.samples // BATCH_SIZE) + 1)\n",
    "y_pred = np.argmax(Y_pred, axis=1)\n",
    "\n",
    "# Véritables étiquettes\n",
    "y_true = val_generator.classes\n",
    "\n",
    "# Calcul de la matrice de confusion\n",
    "cm = confusion_matrix(y_true, y_pred)\n",
    "\n",
    "# Affichage avec seaborn\n",
    "plt.figure(figsize=(8, 6))\n",
    "class_names = list(val_generator.class_indices.keys())\n",
    "sns.heatmap(cm, annot=True, fmt=\"d\", cmap=\"Blues\", \n",
    "            xticklabels=class_names, yticklabels=class_names)\n",
    "plt.xlabel(\"Étiquette prédite\")\n",
    "plt.ylabel(\"Étiquette réelle\")\n",
    "plt.title(\"Matrice de confusion\")\n",
    "plt.show()\n",
    "\n",
    "# Affichage du rapport de classification\n",
    "print(\"Rapport de classification :\")\n",
    "print(classification_report(y_true, y_pred, target_names=class_names))\n",
    "\n",
    "# Sauvegarde finale du modèle (optionnel)\n",
    "model.save(\"final_emotion_model.h5\")\n"
   ]
  },
  {
   "cell_type": "code",
   "execution_count": 8,
   "metadata": {},
   "outputs": [],
   "source": [
    "#sauvegarde du modèle\n",
    "import os\n",
    "import tensorflow as tf\n",
    "from tensorflow.keras.models import load_model\n",
    "\n",
    "# Chemin de sauvegarde\n",
    "MODEL_PATH = \"finalFS_emotion_model.h5\"\n"
   ]
  },
  {
   "cell_type": "code",
   "execution_count": null,
   "metadata": {},
   "outputs": [],
   "source": []
  },
  {
   "cell_type": "code",
   "execution_count": null,
   "metadata": {},
   "outputs": [],
   "source": []
  },
  {
   "cell_type": "code",
   "execution_count": null,
   "metadata": {},
   "outputs": [],
   "source": []
  },
  {
   "cell_type": "code",
   "execution_count": null,
   "metadata": {},
   "outputs": [],
   "source": []
  }
 ],
 "metadata": {
  "kernelspec": {
   "display_name": ".venv",
   "language": "python",
   "name": "python3"
  },
  "language_info": {
   "codemirror_mode": {
    "name": "ipython",
    "version": 3
   },
   "file_extension": ".py",
   "mimetype": "text/x-python",
   "name": "python",
   "nbconvert_exporter": "python",
   "pygments_lexer": "ipython3",
   "version": "3.11.9"
  }
 },
 "nbformat": 4,
 "nbformat_minor": 4
}
